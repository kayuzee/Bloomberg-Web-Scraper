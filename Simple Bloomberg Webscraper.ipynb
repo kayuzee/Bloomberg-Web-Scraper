{
 "cells": [
  {
   "cell_type": "code",
   "execution_count": 6,
   "metadata": {
    "collapsed": true
   },
   "outputs": [],
   "source": [
    "from urllib.request import urlopen\n",
    "from bs4 import BeautifulSoup"
   ]
  },
  {
   "cell_type": "code",
   "execution_count": 7,
   "metadata": {
    "collapsed": true
   },
   "outputs": [],
   "source": [
    "index = \"https://www.bloomberg.com/quote/COINXBT:SS\"\n",
    "webpage= urlopen(index)\n",
    "\n",
    "#parse using bs4\n",
    "soup = BeautifulSoup(webpage, 'html.parser')\n"
   ]
  },
  {
   "cell_type": "code",
   "execution_count": 11,
   "metadata": {},
   "outputs": [
    {
     "name": "stdout",
     "output_type": "stream",
     "text": [
      "Bitcoin Tracker One - SEK\n",
      "COINXBT:SS\n",
      "113.80\n"
     ]
    }
   ],
   "source": [
    "name_box = soup.find('h1', attrs={'class':'name'})\n",
    "tick_box = soup.find('div', attrs={'class':'ticker'})\n",
    "price_box = soup.find('div', attrs={'class':'price'})\n",
    "\n",
    "name = name_box.text.strip()\n",
    "tick = tick_box.text.strip()\n",
    "price = price_box.text.strip()\n",
    "\n",
    "print(name)\n",
    "print(tick)\n",
    "print(price)"
   ]
  },
  {
   "cell_type": "code",
   "execution_count": null,
   "metadata": {
    "collapsed": true
   },
   "outputs": [],
   "source": []
  }
 ],
 "metadata": {
  "kernelspec": {
   "display_name": "Python 3",
   "language": "python",
   "name": "python3"
  },
  "language_info": {
   "codemirror_mode": {
    "name": "ipython",
    "version": 3
   },
   "file_extension": ".py",
   "mimetype": "text/x-python",
   "name": "python",
   "nbconvert_exporter": "python",
   "pygments_lexer": "ipython3",
   "version": "3.6.1"
  }
 },
 "nbformat": 4,
 "nbformat_minor": 2
}
